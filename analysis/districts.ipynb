{
 "cells": [
  {
   "cell_type": "code",
   "execution_count": 70,
   "metadata": {},
   "outputs": [],
   "source": [
    "import pandas as pd\n",
    "import seaborn as sbs\n",
    "import sqlite3 as sql\n",
    "import sklearn as sk"
   ]
  },
  {
   "cell_type": "markdown",
   "metadata": {},
   "source": [
    "This analysis aims to understand the different regions the bank operates in.\n",
    "\n",
    "1. Data cleaning\n",
    "2. Trends of different variables\n",
    "3. Finding correlations\n",
    "4. Feature engineering\n",
    "5. Dimensionality reduction\n",
    "6. Clustering"
   ]
  },
  {
   "cell_type": "code",
   "execution_count": 71,
   "metadata": {},
   "outputs": [
    {
     "data": {
      "text/html": [
       "<div>\n",
       "<style scoped>\n",
       "    .dataframe tbody tr th:only-of-type {\n",
       "        vertical-align: middle;\n",
       "    }\n",
       "\n",
       "    .dataframe tbody tr th {\n",
       "        vertical-align: top;\n",
       "    }\n",
       "\n",
       "    .dataframe thead th {\n",
       "        text-align: right;\n",
       "    }\n",
       "</style>\n",
       "<table border=\"1\" class=\"dataframe\">\n",
       "  <thead>\n",
       "    <tr style=\"text-align: right;\">\n",
       "      <th></th>\n",
       "      <th>id</th>\n",
       "      <th>name</th>\n",
       "      <th>region</th>\n",
       "      <th>no_inhabitants</th>\n",
       "      <th>no_small_places</th>\n",
       "      <th>no_medium_places</th>\n",
       "      <th>no_large_places</th>\n",
       "      <th>no_very_large_places</th>\n",
       "      <th>no_cities</th>\n",
       "      <th>ratio_urban_inhabitants</th>\n",
       "      <th>avg_salary</th>\n",
       "      <th>unemployment_95</th>\n",
       "      <th>unemployment_96</th>\n",
       "      <th>entrepreneur_ratio</th>\n",
       "      <th>crimes_95</th>\n",
       "      <th>crimes_96</th>\n",
       "    </tr>\n",
       "  </thead>\n",
       "  <tbody>\n",
       "    <tr>\n",
       "      <th>1</th>\n",
       "      <td>2</td>\n",
       "      <td>benesov</td>\n",
       "      <td>central bohemia</td>\n",
       "      <td>88884</td>\n",
       "      <td>80</td>\n",
       "      <td>26</td>\n",
       "      <td>6</td>\n",
       "      <td>2</td>\n",
       "      <td>5</td>\n",
       "      <td>46.7</td>\n",
       "      <td>8507</td>\n",
       "      <td>1.67</td>\n",
       "      <td>1.85</td>\n",
       "      <td>132.0</td>\n",
       "      <td>2159.0</td>\n",
       "      <td>2674</td>\n",
       "    </tr>\n",
       "    <tr>\n",
       "      <th>2</th>\n",
       "      <td>3</td>\n",
       "      <td>beroun</td>\n",
       "      <td>central bohemia</td>\n",
       "      <td>75232</td>\n",
       "      <td>55</td>\n",
       "      <td>26</td>\n",
       "      <td>4</td>\n",
       "      <td>1</td>\n",
       "      <td>5</td>\n",
       "      <td>41.7</td>\n",
       "      <td>8980</td>\n",
       "      <td>1.95</td>\n",
       "      <td>2.21</td>\n",
       "      <td>111.0</td>\n",
       "      <td>2824.0</td>\n",
       "      <td>2813</td>\n",
       "    </tr>\n",
       "    <tr>\n",
       "      <th>3</th>\n",
       "      <td>4</td>\n",
       "      <td>kladno</td>\n",
       "      <td>central bohemia</td>\n",
       "      <td>149893</td>\n",
       "      <td>63</td>\n",
       "      <td>29</td>\n",
       "      <td>6</td>\n",
       "      <td>2</td>\n",
       "      <td>6</td>\n",
       "      <td>67.4</td>\n",
       "      <td>9753</td>\n",
       "      <td>4.64</td>\n",
       "      <td>5.05</td>\n",
       "      <td>109.0</td>\n",
       "      <td>5244.0</td>\n",
       "      <td>5892</td>\n",
       "    </tr>\n",
       "    <tr>\n",
       "      <th>4</th>\n",
       "      <td>5</td>\n",
       "      <td>kolin</td>\n",
       "      <td>central bohemia</td>\n",
       "      <td>95616</td>\n",
       "      <td>65</td>\n",
       "      <td>30</td>\n",
       "      <td>4</td>\n",
       "      <td>1</td>\n",
       "      <td>6</td>\n",
       "      <td>51.4</td>\n",
       "      <td>9307</td>\n",
       "      <td>3.85</td>\n",
       "      <td>4.43</td>\n",
       "      <td>118.0</td>\n",
       "      <td>2616.0</td>\n",
       "      <td>3040</td>\n",
       "    </tr>\n",
       "    <tr>\n",
       "      <th>5</th>\n",
       "      <td>6</td>\n",
       "      <td>kutna hora</td>\n",
       "      <td>central bohemia</td>\n",
       "      <td>77963</td>\n",
       "      <td>60</td>\n",
       "      <td>23</td>\n",
       "      <td>4</td>\n",
       "      <td>2</td>\n",
       "      <td>4</td>\n",
       "      <td>51.5</td>\n",
       "      <td>8546</td>\n",
       "      <td>2.95</td>\n",
       "      <td>4.02</td>\n",
       "      <td>126.0</td>\n",
       "      <td>2640.0</td>\n",
       "      <td>3120</td>\n",
       "    </tr>\n",
       "    <tr>\n",
       "      <th>...</th>\n",
       "      <td>...</td>\n",
       "      <td>...</td>\n",
       "      <td>...</td>\n",
       "      <td>...</td>\n",
       "      <td>...</td>\n",
       "      <td>...</td>\n",
       "      <td>...</td>\n",
       "      <td>...</td>\n",
       "      <td>...</td>\n",
       "      <td>...</td>\n",
       "      <td>...</td>\n",
       "      <td>...</td>\n",
       "      <td>...</td>\n",
       "      <td>...</td>\n",
       "      <td>...</td>\n",
       "      <td>...</td>\n",
       "    </tr>\n",
       "    <tr>\n",
       "      <th>72</th>\n",
       "      <td>73</td>\n",
       "      <td>opava</td>\n",
       "      <td>north moravia</td>\n",
       "      <td>182027</td>\n",
       "      <td>17</td>\n",
       "      <td>49</td>\n",
       "      <td>12</td>\n",
       "      <td>2</td>\n",
       "      <td>7</td>\n",
       "      <td>56.4</td>\n",
       "      <td>8746</td>\n",
       "      <td>3.33</td>\n",
       "      <td>3.74</td>\n",
       "      <td>90.0</td>\n",
       "      <td>4355.0</td>\n",
       "      <td>4433</td>\n",
       "    </tr>\n",
       "    <tr>\n",
       "      <th>73</th>\n",
       "      <td>74</td>\n",
       "      <td>ostrava - mesto</td>\n",
       "      <td>north moravia</td>\n",
       "      <td>323870</td>\n",
       "      <td>0</td>\n",
       "      <td>0</td>\n",
       "      <td>0</td>\n",
       "      <td>1</td>\n",
       "      <td>1</td>\n",
       "      <td>100.0</td>\n",
       "      <td>10673</td>\n",
       "      <td>4.75</td>\n",
       "      <td>5.44</td>\n",
       "      <td>100.0</td>\n",
       "      <td>18782.0</td>\n",
       "      <td>18347</td>\n",
       "    </tr>\n",
       "    <tr>\n",
       "      <th>74</th>\n",
       "      <td>75</td>\n",
       "      <td>prerov</td>\n",
       "      <td>north moravia</td>\n",
       "      <td>138032</td>\n",
       "      <td>67</td>\n",
       "      <td>30</td>\n",
       "      <td>4</td>\n",
       "      <td>2</td>\n",
       "      <td>5</td>\n",
       "      <td>64.6</td>\n",
       "      <td>8819</td>\n",
       "      <td>5.38</td>\n",
       "      <td>5.66</td>\n",
       "      <td>99.0</td>\n",
       "      <td>4063.0</td>\n",
       "      <td>4505</td>\n",
       "    </tr>\n",
       "    <tr>\n",
       "      <th>75</th>\n",
       "      <td>76</td>\n",
       "      <td>sumperk</td>\n",
       "      <td>north moravia</td>\n",
       "      <td>127369</td>\n",
       "      <td>31</td>\n",
       "      <td>32</td>\n",
       "      <td>13</td>\n",
       "      <td>2</td>\n",
       "      <td>7</td>\n",
       "      <td>51.2</td>\n",
       "      <td>8369</td>\n",
       "      <td>4.73</td>\n",
       "      <td>5.88</td>\n",
       "      <td>107.0</td>\n",
       "      <td>3736.0</td>\n",
       "      <td>2807</td>\n",
       "    </tr>\n",
       "    <tr>\n",
       "      <th>76</th>\n",
       "      <td>77</td>\n",
       "      <td>vsetin</td>\n",
       "      <td>north moravia</td>\n",
       "      <td>148545</td>\n",
       "      <td>8</td>\n",
       "      <td>35</td>\n",
       "      <td>12</td>\n",
       "      <td>3</td>\n",
       "      <td>4</td>\n",
       "      <td>53.5</td>\n",
       "      <td>8909</td>\n",
       "      <td>4.01</td>\n",
       "      <td>5.56</td>\n",
       "      <td>113.0</td>\n",
       "      <td>3460.0</td>\n",
       "      <td>3590</td>\n",
       "    </tr>\n",
       "  </tbody>\n",
       "</table>\n",
       "<p>76 rows × 16 columns</p>\n",
       "</div>"
      ],
      "text/plain": [
       "    id             name           region  no_inhabitants  no_small_places  \\\n",
       "1    2          benesov  central bohemia           88884               80   \n",
       "2    3           beroun  central bohemia           75232               55   \n",
       "3    4           kladno  central bohemia          149893               63   \n",
       "4    5            kolin  central bohemia           95616               65   \n",
       "5    6       kutna hora  central bohemia           77963               60   \n",
       "..  ..              ...              ...             ...              ...   \n",
       "72  73            opava    north moravia          182027               17   \n",
       "73  74  ostrava - mesto    north moravia          323870                0   \n",
       "74  75           prerov    north moravia          138032               67   \n",
       "75  76          sumperk    north moravia          127369               31   \n",
       "76  77           vsetin    north moravia          148545                8   \n",
       "\n",
       "    no_medium_places  no_large_places  no_very_large_places  no_cities  \\\n",
       "1                 26                6                     2          5   \n",
       "2                 26                4                     1          5   \n",
       "3                 29                6                     2          6   \n",
       "4                 30                4                     1          6   \n",
       "5                 23                4                     2          4   \n",
       "..               ...              ...                   ...        ...   \n",
       "72                49               12                     2          7   \n",
       "73                 0                0                     1          1   \n",
       "74                30                4                     2          5   \n",
       "75                32               13                     2          7   \n",
       "76                35               12                     3          4   \n",
       "\n",
       "    ratio_urban_inhabitants  avg_salary  unemployment_95  unemployment_96  \\\n",
       "1                      46.7        8507             1.67             1.85   \n",
       "2                      41.7        8980             1.95             2.21   \n",
       "3                      67.4        9753             4.64             5.05   \n",
       "4                      51.4        9307             3.85             4.43   \n",
       "5                      51.5        8546             2.95             4.02   \n",
       "..                      ...         ...              ...              ...   \n",
       "72                     56.4        8746             3.33             3.74   \n",
       "73                    100.0       10673             4.75             5.44   \n",
       "74                     64.6        8819             5.38             5.66   \n",
       "75                     51.2        8369             4.73             5.88   \n",
       "76                     53.5        8909             4.01             5.56   \n",
       "\n",
       "    entrepreneur_ratio  crimes_95  crimes_96  \n",
       "1                132.0     2159.0       2674  \n",
       "2                111.0     2824.0       2813  \n",
       "3                109.0     5244.0       5892  \n",
       "4                118.0     2616.0       3040  \n",
       "5                126.0     2640.0       3120  \n",
       "..                 ...        ...        ...  \n",
       "72                90.0     4355.0       4433  \n",
       "73               100.0    18782.0      18347  \n",
       "74                99.0     4063.0       4505  \n",
       "75               107.0     3736.0       2807  \n",
       "76               113.0     3460.0       3590  \n",
       "\n",
       "[76 rows x 16 columns]"
      ]
     },
     "execution_count": 71,
     "metadata": {},
     "output_type": "execute_result"
    }
   ],
   "source": [
    "districts = None\n",
    "with sql.connect(\"../database_test.db\") as conn:\n",
    "    districts = pd.read_sql(\"select * from districts\", conn)\n",
    "districts\n",
    "# prague is a gigantic outlier in most regards, so we will remove it for this analysis\n",
    "districts = districts.drop(0)\n",
    "districts"
   ]
  },
  {
   "cell_type": "code",
   "execution_count": 72,
   "metadata": {},
   "outputs": [],
   "source": [
    "label_data = districts[[\"id\", \"name\", \"region\"]]\n",
    "numerical_data = districts.drop(columns=[\"id\", \"name\", \"region\"])"
   ]
  },
  {
   "cell_type": "code",
   "execution_count": 73,
   "metadata": {},
   "outputs": [
    {
     "data": {
      "text/plain": [
       "Index(['no_inhabitants', 'no_small_places', 'no_medium_places',\n",
       "       'no_large_places', 'no_very_large_places', 'no_cities',\n",
       "       'ratio_urban_inhabitants', 'avg_salary', 'entrepreneur_ratio',\n",
       "       'unemployment', 'crimes'],\n",
       "      dtype='object')"
      ]
     },
     "execution_count": 73,
     "metadata": {},
     "output_type": "execute_result"
    }
   ],
   "source": [
    "# Data cleaning. Sometimes we do not have numbers for unemployment or crimes for a given year.\n",
    "# Furthermore it is not so relevant to analyse the year on year stats, so we are better off calculating the average and assuming\n",
    "# that if a year is missing data, we can just use the data from the other year by itself\n",
    "# Crime and unemployment for '95 have missing data\n",
    "\n",
    "numerical_data.unemployment_95 = numerical_data.unemployment_95.fillna(numerical_data.unemployment_96)\n",
    "numerical_data = numerical_data.assign(\n",
    "    unemployment = [\n",
    "        (u95 + u96) / 2 for u95, u96 in zip(numerical_data.unemployment_95, numerical_data.unemployment_96)\n",
    "    ]\n",
    ").drop(columns=[\"unemployment_95\", \"unemployment_96\"])\n",
    "numerical_data.columns\n",
    "\n",
    "numerical_data.crimes_95 = numerical_data.crimes_95.fillna(numerical_data.crimes_96)\n",
    "numerical_data = numerical_data.assign(\n",
    "    crimes = [\n",
    "        (c95 + c96) / 2 for c95, c96 in zip(numerical_data.crimes_95, numerical_data.crimes_96)\n",
    "    ]\n",
    ").drop(columns=[\"crimes_95\", \"crimes_96\"])\n",
    "numerical_data.columns"
   ]
  },
  {
   "cell_type": "code",
   "execution_count": 74,
   "metadata": {},
   "outputs": [
    {
     "data": {
      "text/plain": [
       "<AxesSubplot:>"
      ]
     },
     "execution_count": 74,
     "metadata": {},
     "output_type": "execute_result"
    },
    {
     "data": {
      "image/png": "[encoded data removed]",
      "text/plain": [
       "<Figure size 792x648 with 2 Axes>"
      ]
     },
     "metadata": {
      "needs_background": "light"
     },
     "output_type": "display_data"
    }
   ],
   "source": [
    "# Now let's examine the correlation matrix between the different variables:\n",
    "import numpy as np\n",
    "import matplotlib.pyplot as plt\n",
    "# Compute the correlation matrix\n",
    "corr = numerical_data.corr()\n",
    "\n",
    "# Generate a mask for the upper triangle\n",
    "mask = np.triu(np.ones_like(corr, dtype=bool))\n",
    "\n",
    "# Set up the matplotlib figure\n",
    "f, ax = plt.subplots(figsize=(11, 9))\n",
    "\n",
    "# Generate a custom diverging colormap\n",
    "cmap = sbs.diverging_palette(230, 20, as_cmap=True)\n",
    "\n",
    "# Draw the heatmap with the mask and correct aspect ratio\n",
    "sbs.heatmap(corr,  mask=mask,cmap=cmap, center=0,\n",
    "            square=True, linewidths=.5, cbar_kws={\"shrink\": .5})"
   ]
  },
  {
   "cell_type": "markdown",
   "metadata": {},
   "source": [
    "According to the table above, we can see that several features are severely correlated amongst each other.\n",
    "Because, generally speaking, analysis becomes easier if we consider fewer features, we will move on to performing dimensionality reduction, using Principal Component Analysis.\n",
    "We use PCA to determine a new base for our feature space, which consists of base vectors that we call Principal Components, that has the characteristic that, when we project our data set onto it, a maximum amount of the data's variance is preserved with a minimum number of dimensions."
   ]
  },
  {
   "cell_type": "code",
   "execution_count": 75,
   "metadata": {},
   "outputs": [
    {
     "data": {
      "text/plain": [
       "array([0.32207663, 0.18609738, 0.15040436, 0.09896732, 0.07403734,\n",
       "       0.05758405, 0.04189072, 0.03474222, 0.02061771, 0.01049937,\n",
       "       0.0030829 ])"
      ]
     },
     "execution_count": 75,
     "metadata": {},
     "output_type": "execute_result"
    }
   ],
   "source": [
    "from sklearn.decomposition import PCA\n",
    "\n",
    "# We need to first scale the data to a normalized standard because, otherwise, the components\n",
    "# would be nominated by the dimensions that have the larger order of magnitude (i.e. population)\n",
    "from sklearn.preprocessing import StandardScaler\n",
    "x = numerical_data.values #returns a numpy array\n",
    "scaler = StandardScaler()\n",
    "x_scaled = scaler.fit_transform(x)\n",
    "scaled_data = pd.DataFrame(x_scaled, columns=numerical_data.columns)\n",
    "\n",
    "pca = PCA()\n",
    "pca.fit(scaled_data)\n",
    "pca.explained_variance_ratio_\n"
   ]
  },
  {
   "cell_type": "code",
   "execution_count": 76,
   "metadata": {},
   "outputs": [
    {
     "data": {
      "text/plain": [
       "array([[ 0.40092915, -0.29985419, -0.27600222, -0.13603364,  0.17525933,\n",
       "        -0.14267338,  0.45165411,  0.37614486, -0.06828035,  0.18633733,\n",
       "         0.46768491],\n",
       "       [ 0.23867716, -0.19627247,  0.41955472,  0.51154719,  0.40564934,\n",
       "         0.3719798 , -0.0556777 , -0.12052551, -0.30337241,  0.22892446,\n",
       "         0.04261044],\n",
       "       [ 0.21530102, -0.13864416,  0.18728489,  0.33394088, -0.284975  ,\n",
       "         0.23546777,  0.00075767,  0.25333108,  0.51161635, -0.53543197,\n",
       "         0.19636551],\n",
       "       [-0.33539047, -0.15385248, -0.35433445, -0.09675974,  0.29198955,\n",
       "         0.62645748,  0.38572426, -0.03620455,  0.17726962, -0.09653853,\n",
       "        -0.245728  ]])"
      ]
     },
     "execution_count": 76,
     "metadata": {},
     "output_type": "execute_result"
    }
   ],
   "source": [
    "# from observing these results we can see that if we\n",
    "# keep 4 dimensions we keep over 75% of the original variance\n",
    "pca = PCA(n_components=4)\n",
    "base_shifted_data = pca.fit_transform(scaled_data)\n",
    "pca.components_"
   ]
  },
  {
   "cell_type": "markdown",
   "metadata": {},
   "source": [
    "Interpreting the components:\n",
    " 1. The first component suggests that districts with higher population tend to have more crimes, a larger urban population, and a higher average salary. Futhermore, the negative correlation with the number of places with small to to medium population suggests that more populated districts tend to have fewer, but higher population places, such as large cities and their suburbs, in detriment of villages and smaller towns.\n",
    " 2. The second component suggests that districts with less entreprenours tend to have more unemployment. Furthermore, there is a correlation with the number of very large settlements, but we could not find the relevant correlation.\n",
    " 3. The third component tells us that places with medium population tend to have a large amount of smaller cities, as well as relatively lower unemployment that average. This might imply a cluster of districts with a lot of smaller, but productive areas.\n",
    " 4. We had difficulties interpreting the correlations of the fourth component."
   ]
  },
  {
   "cell_type": "markdown",
   "metadata": {},
   "source": [
    "Clustering\n",
    "\n",
    "Now we will try to apply clustering techniques to the data and invert the transformations, as well as interpret the results of the clustering."
   ]
  },
  {
   "cell_type": "code",
   "execution_count": 77,
   "metadata": {},
   "outputs": [
    {
     "data": {
      "text/plain": [
       "<AxesSubplot:xlabel='n_clusters', ylabel='inertia'>"
      ]
     },
     "execution_count": 77,
     "metadata": {},
     "output_type": "execute_result"
    },
    {
     "data": {
      "image/png": "[encoded data removed]",
      "text/plain": [
       "<Figure size 432x288 with 1 Axes>"
      ]
     },
     "metadata": {
      "needs_background": "light"
     },
     "output_type": "display_data"
    }
   ],
   "source": [
    "from sklearn.cluster import KMeans\n",
    "\n",
    "n_cluster_candidates = list(range(2, 10))\n",
    "kmeans_sets = pd.DataFrame(columns=[\"init\", \"n_clusters\", \"inertia\"])\n",
    "\n",
    "for n_clusters in n_cluster_candidates:\n",
    "    km = KMeans(\n",
    "        n_clusters=n_clusters,\n",
    "        random_state=19,\n",
    "    )\n",
    "    km.fit(base_shifted_data)\n",
    "    kmeans_sets = kmeans_sets.append({\"init\": \"plus-plus\", \"n_clusters\": n_clusters, \"inertia\": km.inertia_}, ignore_index=True)\n",
    "    \n",
    "    km = KMeans(\n",
    "        n_clusters=n_clusters,\n",
    "        init=\"random\",\n",
    "        random_state=19,\n",
    "    )\n",
    "    km.fit(base_shifted_data)\n",
    "    kmeans_sets = kmeans_sets.append({\"init\": \"random\", \"n_clusters\": n_clusters, \"inertia\": km.inertia_}, ignore_index=True)\n",
    "\n",
    "sbs.lineplot(data=kmeans_sets, x=\"n_clusters\", y=\"inertia\", hue=\"init\")"
   ]
  },
  {
   "cell_type": "code",
   "execution_count": 78,
   "metadata": {},
   "outputs": [],
   "source": [
    "# By the elbow rule, any number of clusters between 5 and 7, inclusive\n",
    "# should give us an aproximately optimal number of clusters\n",
    "# There is no meaningful difference between the initial centroid selection methods\n",
    "km = KMeans(n_clusters=7, random_state=19)\n",
    "km.fit(base_shifted_data)\n",
    "kmeans_clusters = km.predict(base_shifted_data)"
   ]
  },
  {
   "cell_type": "code",
   "execution_count": 79,
   "metadata": {},
   "outputs": [
    {
     "data": {
      "text/plain": [
       "<AxesSubplot:xlabel='n_clusters', ylabel='inertia'>"
      ]
     },
     "execution_count": 79,
     "metadata": {},
     "output_type": "execute_result"
    },
    {
     "data": {
      "image/png": "[encoded data removed]",
      "text/plain": [
       "<Figure size 432x288 with 1 Axes>"
      ]
     },
     "metadata": {
      "needs_background": "light"
     },
     "output_type": "display_data"
    }
   ],
   "source": [
    "from sklearn.cluster import MiniBatchKMeans\n",
    "\n",
    "n_cluster_candidates = list(range(2, 10))\n",
    "bkmeans_sets = pd.DataFrame(columns=[\"n_clusters\", \"batch_size\", \"inertia\"])\n",
    "\n",
    "for n_clusters in n_cluster_candidates:\n",
    "    for batch_size in [1,2,4, 12, 36]:\n",
    "        bkm = MiniBatchKMeans(\n",
    "            n_clusters=n_clusters,\n",
    "            random_state=19,\n",
    "        )\n",
    "        bkm.fit(base_shifted_data)\n",
    "        bkmeans_sets = bkmeans_sets.append({\"batch_size\": batch_size, \"n_clusters\": n_clusters, \"inertia\": bkm.inertia_}, ignore_index=True)\n",
    "\n",
    "        \n",
    "\n",
    "sbs.lineplot(data=bkmeans_sets, x=\"n_clusters\", y=\"inertia\", hue=\"batch_size\")"
   ]
  },
  {
   "cell_type": "code",
   "execution_count": 81,
   "metadata": {},
   "outputs": [],
   "source": [
    "# By the elbow rule, any number of clusters between 5 and 7, inclusive\n",
    "# should give us an aproximately optimal number of clusters\n",
    "# There is no meaningful difference between the batch sizes\n",
    "bkm = MiniBatchKMeans(n_clusters=7, random_state=19, batch_size=36)\n",
    "bkm.fit(base_shifted_data)\n",
    "bkmeans_clusters = bkm.predict(base_shifted_data)"
   ]
  },
  {
   "cell_type": "code",
   "execution_count": 92,
   "metadata": {},
   "outputs": [
    {
     "data": {
      "text/plain": [
       "<AxesSubplot:xlabel='eps', ylabel='silhouette_score'>"
      ]
     },
     "execution_count": 92,
     "metadata": {},
     "output_type": "execute_result"
    },
    {
     "data": {
      "image/png": "[encoded data removed]",
      "text/plain": [
       "<Figure size 432x288 with 1 Axes>"
      ]
     },
     "metadata": {
      "needs_background": "light"
     },
     "output_type": "display_data"
    }
   ],
   "source": [
    "from sklearn.cluster import DBSCAN\n",
    "from sklearn.metrics import silhouette_score\n",
    "dbscans = pd.DataFrame(columns=[\"eps\", \"algorithm\", \"sill_coef\"])\n",
    "\n",
    "for eps in [0.3, 0.5, 0.8]:\n",
    "    for algorithm in [\"ball_tree\", \"kd_tree\", \"brute\"]:\n",
    "        dbs = DBSCAN(\n",
    "            eps = eps,\n",
    "            min_samples=2,\n",
    "            algorithm=algorithm,\n",
    "        )\n",
    "        labels = dbs.fit_predict(base_shifted_data)\n",
    "        sil = silhouette_score(X=base_shifted_data, labels=labels)\n",
    "        dbscans = dbscans.append({\"eps\": eps, \"algorithm\": algorithm, \"silhouette_score\": sil}, ignore_index=True)\n",
    "\n",
    "sbs.lineplot(data=dbscans, x=\"eps\", y=\"silhouette_score\", hue=\"algorithm\")"
   ]
  },
  {
   "cell_type": "markdown",
   "metadata": {},
   "source": [
    "Results for DBSCAN seem to be inconclusive. Average silhouette coefficients that are close to zero indicate that there is no well defined cluster."
   ]
  },
  {
   "cell_type": "code",
   "execution_count": 93,
   "metadata": {},
   "outputs": [
    {
     "ename": "ValueError",
     "evalue": "Could not interpret value `silhouette_score` for parameter `y`",
     "output_type": "error",
     "traceback": [
      "\u001b[0;31m---------------------------------------------------------------------------\u001b[0m",
      "\u001b[0;31mValueError\u001b[0m                                Traceback (most recent call last)",
      "\u001b[0;32m/tmp/ipykernel_6371/302660927.py\u001b[0m in \u001b[0;36m<module>\u001b[0;34m\u001b[0m\n\u001b[1;32m     15\u001b[0m \u001b[0;34m\u001b[0m\u001b[0m\n\u001b[1;32m     16\u001b[0m \u001b[0;34m\u001b[0m\u001b[0m\n\u001b[0;32m---> 17\u001b[0;31m \u001b[0msbs\u001b[0m\u001b[0;34m.\u001b[0m\u001b[0mlineplot\u001b[0m\u001b[0;34m(\u001b[0m\u001b[0mdata\u001b[0m\u001b[0;34m=\u001b[0m\u001b[0mbkmeans_sets\u001b[0m\u001b[0;34m,\u001b[0m \u001b[0mx\u001b[0m\u001b[0;34m=\u001b[0m\u001b[0;34m\"n_clusters\"\u001b[0m\u001b[0;34m,\u001b[0m \u001b[0my\u001b[0m\u001b[0;34m=\u001b[0m\u001b[0;34m\"silhouette_score\"\u001b[0m\u001b[0;34m,\u001b[0m \u001b[0mhue\u001b[0m\u001b[0;34m=\u001b[0m\u001b[0;34m\"linkage\"\u001b[0m\u001b[0;34m)\u001b[0m\u001b[0;34m\u001b[0m\u001b[0;34m\u001b[0m\u001b[0m\n\u001b[0m",
      "\u001b[0;32m/opt/conda/lib/python3.9/site-packages/seaborn/_decorators.py\u001b[0m in \u001b[0;36minner_f\u001b[0;34m(*args, **kwargs)\u001b[0m\n\u001b[1;32m     44\u001b[0m             )\n\u001b[1;32m     45\u001b[0m         \u001b[0mkwargs\u001b[0m\u001b[0;34m.\u001b[0m\u001b[0mupdate\u001b[0m\u001b[0;34m(\u001b[0m\u001b[0;34m{\u001b[0m\u001b[0mk\u001b[0m\u001b[0;34m:\u001b[0m \u001b[0marg\u001b[0m \u001b[0;32mfor\u001b[0m \u001b[0mk\u001b[0m\u001b[0;34m,\u001b[0m \u001b[0marg\u001b[0m \u001b[0;32min\u001b[0m \u001b[0mzip\u001b[0m\u001b[0;34m(\u001b[0m\u001b[0msig\u001b[0m\u001b[0;34m.\u001b[0m\u001b[0mparameters\u001b[0m\u001b[0;34m,\u001b[0m \u001b[0margs\u001b[0m\u001b[0;34m)\u001b[0m\u001b[0;34m}\u001b[0m\u001b[0;34m)\u001b[0m\u001b[0;34m\u001b[0m\u001b[0;34m\u001b[0m\u001b[0m\n\u001b[0;32m---> 46\u001b[0;31m         \u001b[0;32mreturn\u001b[0m \u001b[0mf\u001b[0m\u001b[0;34m(\u001b[0m\u001b[0;34m**\u001b[0m\u001b[0mkwargs\u001b[0m\u001b[0;34m)\u001b[0m\u001b[0;34m\u001b[0m\u001b[0;34m\u001b[0m\u001b[0m\n\u001b[0m\u001b[1;32m     47\u001b[0m     \u001b[0;32mreturn\u001b[0m \u001b[0minner_f\u001b[0m\u001b[0;34m\u001b[0m\u001b[0;34m\u001b[0m\u001b[0m\n\u001b[1;32m     48\u001b[0m \u001b[0;34m\u001b[0m\u001b[0m\n",
      "\u001b[0;32m/opt/conda/lib/python3.9/site-packages/seaborn/relational.py\u001b[0m in \u001b[0;36mlineplot\u001b[0;34m(x, y, hue, size, style, data, palette, hue_order, hue_norm, sizes, size_order, size_norm, dashes, markers, style_order, units, estimator, ci, n_boot, seed, sort, err_style, err_kws, legend, ax, **kwargs)\u001b[0m\n\u001b[1;32m    690\u001b[0m \u001b[0;34m\u001b[0m\u001b[0m\n\u001b[1;32m    691\u001b[0m     \u001b[0mvariables\u001b[0m \u001b[0;34m=\u001b[0m \u001b[0m_LinePlotter\u001b[0m\u001b[0;34m.\u001b[0m\u001b[0mget_semantics\u001b[0m\u001b[0;34m(\u001b[0m\u001b[0mlocals\u001b[0m\u001b[0;34m(\u001b[0m\u001b[0;34m)\u001b[0m\u001b[0;34m)\u001b[0m\u001b[0;34m\u001b[0m\u001b[0;34m\u001b[0m\u001b[0m\n\u001b[0;32m--> 692\u001b[0;31m     p = _LinePlotter(\n\u001b[0m\u001b[1;32m    693\u001b[0m         \u001b[0mdata\u001b[0m\u001b[0;34m=\u001b[0m\u001b[0mdata\u001b[0m\u001b[0;34m,\u001b[0m \u001b[0mvariables\u001b[0m\u001b[0;34m=\u001b[0m\u001b[0mvariables\u001b[0m\u001b[0;34m,\u001b[0m\u001b[0;34m\u001b[0m\u001b[0;34m\u001b[0m\u001b[0m\n\u001b[1;32m    694\u001b[0m         \u001b[0mestimator\u001b[0m\u001b[0;34m=\u001b[0m\u001b[0mestimator\u001b[0m\u001b[0;34m,\u001b[0m \u001b[0mci\u001b[0m\u001b[0;34m=\u001b[0m\u001b[0mci\u001b[0m\u001b[0;34m,\u001b[0m \u001b[0mn_boot\u001b[0m\u001b[0;34m=\u001b[0m\u001b[0mn_boot\u001b[0m\u001b[0;34m,\u001b[0m \u001b[0mseed\u001b[0m\u001b[0;34m=\u001b[0m\u001b[0mseed\u001b[0m\u001b[0;34m,\u001b[0m\u001b[0;34m\u001b[0m\u001b[0;34m\u001b[0m\u001b[0m\n",
      "\u001b[0;32m/opt/conda/lib/python3.9/site-packages/seaborn/relational.py\u001b[0m in \u001b[0;36m__init__\u001b[0;34m(self, data, variables, estimator, ci, n_boot, seed, sort, err_style, err_kws, legend)\u001b[0m\n\u001b[1;32m    365\u001b[0m         )\n\u001b[1;32m    366\u001b[0m \u001b[0;34m\u001b[0m\u001b[0m\n\u001b[0;32m--> 367\u001b[0;31m         \u001b[0msuper\u001b[0m\u001b[0;34m(\u001b[0m\u001b[0;34m)\u001b[0m\u001b[0;34m.\u001b[0m\u001b[0m__init__\u001b[0m\u001b[0;34m(\u001b[0m\u001b[0mdata\u001b[0m\u001b[0;34m=\u001b[0m\u001b[0mdata\u001b[0m\u001b[0;34m,\u001b[0m \u001b[0mvariables\u001b[0m\u001b[0;34m=\u001b[0m\u001b[0mvariables\u001b[0m\u001b[0;34m)\u001b[0m\u001b[0;34m\u001b[0m\u001b[0;34m\u001b[0m\u001b[0m\n\u001b[0m\u001b[1;32m    368\u001b[0m \u001b[0;34m\u001b[0m\u001b[0m\n\u001b[1;32m    369\u001b[0m         \u001b[0mself\u001b[0m\u001b[0;34m.\u001b[0m\u001b[0mestimator\u001b[0m \u001b[0;34m=\u001b[0m \u001b[0mestimator\u001b[0m\u001b[0;34m\u001b[0m\u001b[0;34m\u001b[0m\u001b[0m\n",
      "\u001b[0;32m/opt/conda/lib/python3.9/site-packages/seaborn/_core.py\u001b[0m in \u001b[0;36m__init__\u001b[0;34m(self, data, variables)\u001b[0m\n\u001b[1;32m    603\u001b[0m     \u001b[0;32mdef\u001b[0m \u001b[0m__init__\u001b[0m\u001b[0;34m(\u001b[0m\u001b[0mself\u001b[0m\u001b[0;34m,\u001b[0m \u001b[0mdata\u001b[0m\u001b[0;34m=\u001b[0m\u001b[0;32mNone\u001b[0m\u001b[0;34m,\u001b[0m \u001b[0mvariables\u001b[0m\u001b[0;34m=\u001b[0m\u001b[0;34m{\u001b[0m\u001b[0;34m}\u001b[0m\u001b[0;34m)\u001b[0m\u001b[0;34m:\u001b[0m\u001b[0;34m\u001b[0m\u001b[0;34m\u001b[0m\u001b[0m\n\u001b[1;32m    604\u001b[0m \u001b[0;34m\u001b[0m\u001b[0m\n\u001b[0;32m--> 605\u001b[0;31m         \u001b[0mself\u001b[0m\u001b[0;34m.\u001b[0m\u001b[0massign_variables\u001b[0m\u001b[0;34m(\u001b[0m\u001b[0mdata\u001b[0m\u001b[0;34m,\u001b[0m \u001b[0mvariables\u001b[0m\u001b[0;34m)\u001b[0m\u001b[0;34m\u001b[0m\u001b[0;34m\u001b[0m\u001b[0m\n\u001b[0m\u001b[1;32m    606\u001b[0m \u001b[0;34m\u001b[0m\u001b[0m\n\u001b[1;32m    607\u001b[0m         \u001b[0;32mfor\u001b[0m \u001b[0mvar\u001b[0m\u001b[0;34m,\u001b[0m \u001b[0mcls\u001b[0m \u001b[0;32min\u001b[0m \u001b[0mself\u001b[0m\u001b[0;34m.\u001b[0m\u001b[0m_semantic_mappings\u001b[0m\u001b[0;34m.\u001b[0m\u001b[0mitems\u001b[0m\u001b[0;34m(\u001b[0m\u001b[0;34m)\u001b[0m\u001b[0;34m:\u001b[0m\u001b[0;34m\u001b[0m\u001b[0;34m\u001b[0m\u001b[0m\n",
      "\u001b[0;32m/opt/conda/lib/python3.9/site-packages/seaborn/_core.py\u001b[0m in \u001b[0;36massign_variables\u001b[0;34m(self, data, variables)\u001b[0m\n\u001b[1;32m    666\u001b[0m         \u001b[0;32melse\u001b[0m\u001b[0;34m:\u001b[0m\u001b[0;34m\u001b[0m\u001b[0;34m\u001b[0m\u001b[0m\n\u001b[1;32m    667\u001b[0m             \u001b[0mself\u001b[0m\u001b[0;34m.\u001b[0m\u001b[0minput_format\u001b[0m \u001b[0;34m=\u001b[0m \u001b[0;34m\"long\"\u001b[0m\u001b[0;34m\u001b[0m\u001b[0;34m\u001b[0m\u001b[0m\n\u001b[0;32m--> 668\u001b[0;31m             plot_data, variables = self._assign_variables_longform(\n\u001b[0m\u001b[1;32m    669\u001b[0m                 \u001b[0mdata\u001b[0m\u001b[0;34m,\u001b[0m \u001b[0;34m**\u001b[0m\u001b[0mvariables\u001b[0m\u001b[0;34m,\u001b[0m\u001b[0;34m\u001b[0m\u001b[0;34m\u001b[0m\u001b[0m\n\u001b[1;32m    670\u001b[0m             )\n",
      "\u001b[0;32m/opt/conda/lib/python3.9/site-packages/seaborn/_core.py\u001b[0m in \u001b[0;36m_assign_variables_longform\u001b[0;34m(self, data, **kwargs)\u001b[0m\n\u001b[1;32m    901\u001b[0m \u001b[0;34m\u001b[0m\u001b[0m\n\u001b[1;32m    902\u001b[0m                 \u001b[0merr\u001b[0m \u001b[0;34m=\u001b[0m \u001b[0;34mf\"Could not interpret value `{val}` for parameter `{key}`\"\u001b[0m\u001b[0;34m\u001b[0m\u001b[0;34m\u001b[0m\u001b[0m\n\u001b[0;32m--> 903\u001b[0;31m                 \u001b[0;32mraise\u001b[0m \u001b[0mValueError\u001b[0m\u001b[0;34m(\u001b[0m\u001b[0merr\u001b[0m\u001b[0;34m)\u001b[0m\u001b[0;34m\u001b[0m\u001b[0;34m\u001b[0m\u001b[0m\n\u001b[0m\u001b[1;32m    904\u001b[0m \u001b[0;34m\u001b[0m\u001b[0m\n\u001b[1;32m    905\u001b[0m             \u001b[0;32melse\u001b[0m\u001b[0;34m:\u001b[0m\u001b[0;34m\u001b[0m\u001b[0;34m\u001b[0m\u001b[0m\n",
      "\u001b[0;31mValueError\u001b[0m: Could not interpret value `silhouette_score` for parameter `y`"
     ]
    }
   ],
   "source": [
    "from sklearn.cluster import AgglomerativeClustering\n",
    "\n",
    "aggr_clusters = pd.DataFrame(columns=[\"silhouette_score\", \"linkage\", \"n_clusters\"])\n",
    "\n",
    "for n_clusters in [2, 3, 5, 8]:\n",
    "    for linkage in [\"ward\", \"complete\", \"average\", \"single\"]:\n",
    "        ag = AgglomerativeClustering(\n",
    "            n_clusters=n_clusters,\n",
    "            linkage=linkage,\n",
    "        )\n",
    "        labels = ag.fit_predict(base_shifted_data)\n",
    "        sil = silhouette_score(base_shifted_data,labels)\n",
    "        aggr_clusters = aggr_clusters.append({\"linkage\": linkage, \"n_clusters\": n_clusters, \"silhouette_score\": sil}, ignore_index=True)\n",
    "\n",
    "        \n",
    "\n",
    "sbs.lineplot(data=aggr_clusters, x=\"n_clusters\", y=\"silhouette_score\", hue=\"linkage\")"
   ]
  }
 ],
 "metadata": {
  "interpreter": {
   "hash": "d4d1e4263499bec80672ea0156c357c1ee493ec2b1c70f0acce89fc37c4a6abe"
  },
  "kernelspec": {
   "display_name": "Python 3.9.7 64-bit ('base': conda)",
   "language": "python",
   "name": "python3"
  },
  "language_info": {
   "codemirror_mode": {
    "name": "ipython",
    "version": 3
   },
   "file_extension": ".py",
   "mimetype": "text/x-python",
   "name": "python",
   "nbconvert_exporter": "python",
   "pygments_lexer": "ipython3",
   "version": "3.9.7"
  },
  "orig_nbformat": 4
 },
 "nbformat": 4,
 "nbformat_minor": 2
}
